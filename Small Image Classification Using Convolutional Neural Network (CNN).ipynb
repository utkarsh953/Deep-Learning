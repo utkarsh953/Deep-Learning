{
 "cells": [
  {
   "cell_type": "code",
   "execution_count": 5,
   "id": "623f8a65-eb0a-41dc-8038-fa32f03c5255",
   "metadata": {},
   "outputs": [],
   "source": [
    "import tensorflow as tf\n",
    "from tensorflow.keras import datasets, layers, models\n",
    "import matplotlib.pyplot as plt\n",
    "import numpy as np"
   ]
  },
  {
   "cell_type": "code",
   "execution_count": 6,
   "id": "c8476e61-7a60-40b5-b35d-fd1455fa53d0",
   "metadata": {},
   "outputs": [],
   "source": [
    "(X_train,y_train), (X_test,y_test) = datasets.cifar10.load_data()\n"
   ]
  },
  {
   "cell_type": "code",
   "execution_count": 9,
   "id": "0839f646-61cc-4e39-afca-00332d64e0fa",
   "metadata": {},
   "outputs": [
    {
     "data": {
      "text/plain": [
       "(50000, 1)"
      ]
     },
     "execution_count": 9,
     "metadata": {},
     "output_type": "execute_result"
    }
   ],
   "source": [
    "y_train.shape"
   ]
  },
  {
   "cell_type": "code",
   "execution_count": 10,
   "id": "126ac7f6-169f-4486-8ad2-6ca3e6ef65d3",
   "metadata": {},
   "outputs": [
    {
     "data": {
      "text/plain": [
       "(50000, 32, 32, 3)"
      ]
     },
     "execution_count": 10,
     "metadata": {},
     "output_type": "execute_result"
    }
   ],
   "source": [
    "X_train.shape"
   ]
  },
  {
   "cell_type": "code",
   "execution_count": 20,
   "id": "0b8abed7-b52a-492b-b6c7-8bb72bbae958",
   "metadata": {},
   "outputs": [
    {
     "data": {
      "text/plain": [
       "array([[[ 35,  25,  26],\n",
       "        [ 27,  21,  21],\n",
       "        [ 25,  20,  19],\n",
       "        ...,\n",
       "        [132, 129, 129],\n",
       "        [133, 121, 116],\n",
       "        [126, 115, 113]],\n",
       "\n",
       "       [[ 63,  55,  50],\n",
       "        [ 32,  27,  21],\n",
       "        [ 17,  13,   8],\n",
       "        ...,\n",
       "        [102,  95,  88],\n",
       "        [105,  89,  76],\n",
       "        [100,  86,  77]],\n",
       "\n",
       "       [[ 99,  91,  84],\n",
       "        [ 49,  45,  37],\n",
       "        [ 15,  12,   5],\n",
       "        ...,\n",
       "        [ 46,  43,  39],\n",
       "        [ 52,  41,  34],\n",
       "        [ 52,  44,  41]],\n",
       "\n",
       "       ...,\n",
       "\n",
       "       [[166, 165, 171],\n",
       "        [164, 163, 166],\n",
       "        [164, 164, 165],\n",
       "        ...,\n",
       "        [173, 172, 170],\n",
       "        [170, 170, 168],\n",
       "        [167, 167, 167]],\n",
       "\n",
       "       [[169, 168, 176],\n",
       "        [169, 168, 173],\n",
       "        [168, 168, 171],\n",
       "        ...,\n",
       "        [172, 171, 170],\n",
       "        [168, 167, 167],\n",
       "        [165, 165, 166]],\n",
       "\n",
       "       [[173, 172, 179],\n",
       "        [175, 174, 178],\n",
       "        [173, 173, 175],\n",
       "        ...,\n",
       "        [170, 168, 169],\n",
       "        [168, 167, 168],\n",
       "        [166, 166, 168]]], dtype=uint8)"
      ]
     },
     "execution_count": 20,
     "metadata": {},
     "output_type": "execute_result"
    }
   ],
   "source": [
    "X_train[10000]"
   ]
  },
  {
   "cell_type": "code",
   "execution_count": 11,
   "id": "0422290d-01dc-4444-b6ed-32f4dddfda75",
   "metadata": {},
   "outputs": [
    {
     "data": {
      "text/plain": [
       "array([[6],\n",
       "       [9],\n",
       "       [9],\n",
       "       [4],\n",
       "       [1]], dtype=uint8)"
      ]
     },
     "execution_count": 11,
     "metadata": {},
     "output_type": "execute_result"
    }
   ],
   "source": [
    "y_train[:5]"
   ]
  },
  {
   "cell_type": "code",
   "execution_count": 12,
   "id": "0859eb40-51c4-43a1-8075-c00be7e8640e",
   "metadata": {},
   "outputs": [
    {
     "data": {
      "text/plain": [
       "array([6, 9, 9, 4, 1], dtype=uint8)"
      ]
     },
     "execution_count": 12,
     "metadata": {},
     "output_type": "execute_result"
    }
   ],
   "source": [
    "# convert this 2D array to 1D\n",
    "y_train = y_train.reshape(-1,)\n",
    "y_train[:5]"
   ]
  },
  {
   "cell_type": "code",
   "execution_count": 13,
   "id": "e6c2c571-9e1a-49f6-8bd3-50aa79d43414",
   "metadata": {},
   "outputs": [],
   "source": [
    "y_test = y_test.reshape(-1,)"
   ]
  },
  {
   "cell_type": "code",
   "execution_count": 14,
   "id": "40572fa6-1833-4d65-a105-f3ffe45a90ad",
   "metadata": {},
   "outputs": [],
   "source": [
    "classes = [\"airplane\",\"automobile\",\"bird\",\"cat\",\"deer\",\"dog\",\"frog\",\"horse\",\"ship\",\"truck\"]"
   ]
  },
  {
   "cell_type": "code",
   "execution_count": 21,
   "id": "581704f4-02cf-4ad3-93b8-a585b1a5697e",
   "metadata": {},
   "outputs": [],
   "source": [
    "# function to plot \n",
    "def plot_sample(X,y,index):\n",
    "    plt.figure(figsize = (15,2))\n",
    "    plt.imshow(X[index])\n",
    "    plt.xlabel(classes[y[index]])"
   ]
  },
  {
   "cell_type": "code",
   "execution_count": 24,
   "id": "d5748175-ecf6-4664-bde1-d122f8618e99",
   "metadata": {},
   "outputs": [
    {
     "data": {
      "image/png": "[encoded data removed]",
      "text/plain": [
       "<Figure size 1500x200 with 1 Axes>"
      ]
     },
     "metadata": {},
     "output_type": "display_data"
    }
   ],
   "source": [
    "plot_sample(X_train,y_train,30000)"
   ]
  },
  {
   "cell_type": "code",
   "execution_count": 25,
   "id": "493478f3-9494-4377-9462-0f6380e23843",
   "metadata": {},
   "outputs": [],
   "source": [
    "# Normalize the images to a number from 0 to 1. Image has 3 channels (R,G,B) and each value in the \n",
    "# channel can range from 0 to 255. Hence to normalize in 0-->1 range, we need to divide it by 255\n",
    "X_train = X_train / 255.0\n",
    "X_test = X_test / 255.0"
   ]
  },
  {
   "cell_type": "code",
   "execution_count": 26,
   "id": "6fcd8511-2c94-45ea-992b-db19bd9366f9",
   "metadata": {},
   "outputs": [
    {
     "name": "stderr",
     "output_type": "stream",
     "text": [
      "C:\\Users\\Lenovo\\Desktop\\code\\ML\\DeepLearning\\env\\lib\\site-packages\\keras\\src\\layers\\reshaping\\flatten.py:37: UserWarning: Do not pass an `input_shape`/`input_dim` argument to a layer. When using Sequential models, prefer using an `Input(shape)` object as the first layer in the model instead.\n",
      "  super().__init__(**kwargs)\n"
     ]
    },
    {
     "name": "stdout",
     "output_type": "stream",
     "text": [
      "Epoch 1/10\n",
      "\u001b[1m1563/1563\u001b[0m \u001b[32m━━━━━━━━━━━━━━━━━━━━\u001b[0m\u001b[37m\u001b[0m \u001b[1m51s\u001b[0m 32ms/step - accuracy: 0.3058 - loss: 1.9297\n",
      "Epoch 2/10\n",
      "\u001b[1m1563/1563\u001b[0m \u001b[32m━━━━━━━━━━━━━━━━━━━━\u001b[0m\u001b[37m\u001b[0m \u001b[1m56s\u001b[0m 36ms/step - accuracy: 0.4212 - loss: 1.6465\n",
      "Epoch 3/10\n",
      "\u001b[1m1563/1563\u001b[0m \u001b[32m━━━━━━━━━━━━━━━━━━━━\u001b[0m\u001b[37m\u001b[0m \u001b[1m55s\u001b[0m 35ms/step - accuracy: 0.4526 - loss: 1.5542\n",
      "Epoch 4/10\n",
      "\u001b[1m1563/1563\u001b[0m \u001b[32m━━━━━━━━━━━━━━━━━━━━\u001b[0m\u001b[37m\u001b[0m \u001b[1m56s\u001b[0m 36ms/step - accuracy: 0.4709 - loss: 1.4971\n",
      "Epoch 5/10\n",
      "\u001b[1m1563/1563\u001b[0m \u001b[32m━━━━━━━━━━━━━━━━━━━━\u001b[0m\u001b[37m\u001b[0m \u001b[1m59s\u001b[0m 37ms/step - accuracy: 0.4913 - loss: 1.4413\n",
      "Epoch 6/10\n",
      "\u001b[1m1563/1563\u001b[0m \u001b[32m━━━━━━━━━━━━━━━━━━━━\u001b[0m\u001b[37m\u001b[0m \u001b[1m59s\u001b[0m 38ms/step - accuracy: 0.5089 - loss: 1.3944\n",
      "Epoch 7/10\n",
      "\u001b[1m1563/1563\u001b[0m \u001b[32m━━━━━━━━━━━━━━━━━━━━\u001b[0m\u001b[37m\u001b[0m \u001b[1m60s\u001b[0m 39ms/step - accuracy: 0.5215 - loss: 1.3606\n",
      "Epoch 8/10\n",
      "\u001b[1m1563/1563\u001b[0m \u001b[32m━━━━━━━━━━━━━━━━━━━━\u001b[0m\u001b[37m\u001b[0m \u001b[1m84s\u001b[0m 40ms/step - accuracy: 0.5343 - loss: 1.3217\n",
      "Epoch 9/10\n",
      "\u001b[1m1563/1563\u001b[0m \u001b[32m━━━━━━━━━━━━━━━━━━━━\u001b[0m\u001b[37m\u001b[0m \u001b[1m57s\u001b[0m 36ms/step - accuracy: 0.5513 - loss: 1.2813\n",
      "Epoch 10/10\n",
      "\u001b[1m1563/1563\u001b[0m \u001b[32m━━━━━━━━━━━━━━━━━━━━\u001b[0m\u001b[37m\u001b[0m \u001b[1m89s\u001b[0m 41ms/step - accuracy: 0.5601 - loss: 1.2555\n"
     ]
    },
    {
     "data": {
      "text/plain": [
       "<keras.src.callbacks.history.History at 0x20be3117d30>"
      ]
     },
     "execution_count": 26,
     "metadata": {},
     "output_type": "execute_result"
    }
   ],
   "source": [
    "# Build simple artificial neural network (ANN) for image classification\n",
    "# Here we use softmax activation function for output layer because\n",
    "# Sigmoid is used for binary classification methods where we only have 2 classes,\n",
    "# while SoftMax applies to multiclass problems. In fact, the SoftMax function is an extension of the Sigmoid function.\n",
    "# we are using 3000,1000 as random numbers in 2 hidden layers and 10 as output layers because we have 10 categories as output\n",
    "\n",
    "ann_model = models.Sequential([\n",
    "     layers.Flatten(input_shape=(32,32,3)),\n",
    "    layers.Dense(3000, activation='relu'),\n",
    "    layers.Dense(1000, activation='relu'),\n",
    "    layers.Dense(10, activation='softmax')\n",
    "])\n",
    "ann_model.compile(\n",
    "            optimizer='SGD',loss='sparse_categorical_crossentropy',\n",
    "            metrics=['accuracy']\n",
    "            )\n",
    "ann_model.fit(X_train, y_train, epochs=10)"
   ]
  },
  {
   "cell_type": "code",
   "execution_count": 27,
   "id": "f1c6699b-093d-45f8-9856-bb6a22629c7b",
   "metadata": {},
   "outputs": [],
   "source": [
    "# Sparse_categorical_crossentropy vs categorical_crossentropy (keras, accuracy) in loss function\n",
    "# If your targets are one-hot encoded (like 0,1,,0,0,0) =>  use categorical_crossentropy\n",
    "# If your targets are integers (like classification in 1,2,3), use sparse_categorical_crossentropy"
   ]
  },
  {
   "cell_type": "code",
   "execution_count": 28,
   "id": "b85cfeaf-3f8b-4251-a6ef-1a5c4fa8e4c7",
   "metadata": {},
   "outputs": [
    {
     "name": "stderr",
     "output_type": "stream",
     "text": [
      "C:\\Users\\Lenovo\\Desktop\\code\\ML\\DeepLearning\\env\\lib\\site-packages\\keras\\src\\layers\\convolutional\\base_conv.py:99: UserWarning: Do not pass an `input_shape`/`input_dim` argument to a layer. When using Sequential models, prefer using an `Input(shape)` object as the first layer in the model instead.\n",
      "  super().__init__(\n"
     ]
    }
   ],
   "source": [
    "# Retrain the same model using convolutional neural network to train our images\n",
    "cnn_model = models.Sequential([\n",
    "    layers.Conv2D(filters=32, kernel_size=(3,3),activation='relu',input_shape=(32,32,3)),\n",
    "    layers.MaxPooling2D((2,2)),\n",
    "\n",
    "    \n",
    "    layers.Conv2D(filters=64, kernel_size=(3, 3), activation='relu'),\n",
    "    layers.MaxPooling2D((2, 2)),\n",
    "    \n",
    "    layers.Flatten(),\n",
    "    \n",
    "    layers.Dense(64, activation='relu'),\n",
    "    layers.Dense(10, activation='softmax')\n",
    "])"
   ]
  },
  {
   "cell_type": "code",
   "execution_count": 29,
   "id": "d3b35c43-c9dc-43d3-bcf5-dd9b4e899c91",
   "metadata": {},
   "outputs": [],
   "source": [
    "cnn_model.compile(optimizer='adam',\n",
    "              loss='sparse_categorical_crossentropy',\n",
    "              metrics=['accuracy'])"
   ]
  },
  {
   "cell_type": "code",
   "execution_count": 30,
   "id": "9a102aa4-b376-460c-9c0b-f561a446bc61",
   "metadata": {},
   "outputs": [
    {
     "name": "stdout",
     "output_type": "stream",
     "text": [
      "Epoch 1/10\n",
      "\u001b[1m1563/1563\u001b[0m \u001b[32m━━━━━━━━━━━━━━━━━━━━\u001b[0m\u001b[37m\u001b[0m \u001b[1m21s\u001b[0m 12ms/step - accuracy: 0.3927 - loss: 1.6691\n",
      "Epoch 2/10\n",
      "\u001b[1m1563/1563\u001b[0m \u001b[32m━━━━━━━━━━━━━━━━━━━━\u001b[0m\u001b[37m\u001b[0m \u001b[1m20s\u001b[0m 13ms/step - accuracy: 0.6060 - loss: 1.1312\n",
      "Epoch 3/10\n",
      "\u001b[1m1563/1563\u001b[0m \u001b[32m━━━━━━━━━━━━━━━━━━━━\u001b[0m\u001b[37m\u001b[0m \u001b[1m21s\u001b[0m 14ms/step - accuracy: 0.6575 - loss: 0.9808\n",
      "Epoch 4/10\n",
      "\u001b[1m1563/1563\u001b[0m \u001b[32m━━━━━━━━━━━━━━━━━━━━\u001b[0m\u001b[37m\u001b[0m \u001b[1m22s\u001b[0m 14ms/step - accuracy: 0.6900 - loss: 0.8815\n",
      "Epoch 5/10\n",
      "\u001b[1m1563/1563\u001b[0m \u001b[32m━━━━━━━━━━━━━━━━━━━━\u001b[0m\u001b[37m\u001b[0m \u001b[1m23s\u001b[0m 15ms/step - accuracy: 0.7192 - loss: 0.8068\n",
      "Epoch 6/10\n",
      "\u001b[1m1563/1563\u001b[0m \u001b[32m━━━━━━━━━━━━━━━━━━━━\u001b[0m\u001b[37m\u001b[0m \u001b[1m23s\u001b[0m 15ms/step - accuracy: 0.7404 - loss: 0.7483\n",
      "Epoch 7/10\n",
      "\u001b[1m1563/1563\u001b[0m \u001b[32m━━━━━━━━━━━━━━━━━━━━\u001b[0m\u001b[37m\u001b[0m \u001b[1m24s\u001b[0m 15ms/step - accuracy: 0.7590 - loss: 0.6966\n",
      "Epoch 8/10\n",
      "\u001b[1m1563/1563\u001b[0m \u001b[32m━━━━━━━━━━━━━━━━━━━━\u001b[0m\u001b[37m\u001b[0m \u001b[1m23s\u001b[0m 15ms/step - accuracy: 0.7767 - loss: 0.6381\n",
      "Epoch 9/10\n",
      "\u001b[1m1563/1563\u001b[0m \u001b[32m━━━━━━━━━━━━━━━━━━━━\u001b[0m\u001b[37m\u001b[0m \u001b[1m23s\u001b[0m 15ms/step - accuracy: 0.7931 - loss: 0.5929\n",
      "Epoch 10/10\n",
      "\u001b[1m1563/1563\u001b[0m \u001b[32m━━━━━━━━━━━━━━━━━━━━\u001b[0m\u001b[37m\u001b[0m \u001b[1m23s\u001b[0m 15ms/step - accuracy: 0.8064 - loss: 0.5594\n"
     ]
    },
    {
     "data": {
      "text/plain": [
       "<keras.src.callbacks.history.History at 0x20be28aa830>"
      ]
     },
     "execution_count": 30,
     "metadata": {},
     "output_type": "execute_result"
    }
   ],
   "source": [
    "cnn_model.fit(X_train, y_train, epochs=10)"
   ]
  },
  {
   "cell_type": "code",
   "execution_count": 31,
   "id": "38c5351a-9053-4e11-aecd-43f3f5c3eb02",
   "metadata": {},
   "outputs": [
    {
     "name": "stdout",
     "output_type": "stream",
     "text": [
      "\u001b[1m313/313\u001b[0m \u001b[32m━━━━━━━━━━━━━━━━━━━━\u001b[0m\u001b[37m\u001b[0m \u001b[1m2s\u001b[0m 5ms/step - accuracy: 0.6947 - loss: 0.9808\n"
     ]
    },
    {
     "data": {
      "text/plain": [
       "[0.9974281191825867, 0.6909999847412109]"
      ]
     },
     "execution_count": 31,
     "metadata": {},
     "output_type": "execute_result"
    }
   ],
   "source": [
    "cnn_model.evaluate(X_test,y_test)"
   ]
  },
  {
   "cell_type": "code",
   "execution_count": 33,
   "id": "7375a066-aa94-4a63-aa30-ea6dcfb7818c",
   "metadata": {},
   "outputs": [
    {
     "name": "stdout",
     "output_type": "stream",
     "text": [
      "\u001b[1m313/313\u001b[0m \u001b[32m━━━━━━━━━━━━━━━━━━━━\u001b[0m\u001b[37m\u001b[0m \u001b[1m2s\u001b[0m 5ms/step\n"
     ]
    }
   ],
   "source": [
    "y_pred = cnn_model.predict(X_test)"
   ]
  },
  {
   "cell_type": "code",
   "execution_count": 34,
   "id": "ef9a5185-7e3d-4906-a1f9-3f281ba2eedf",
   "metadata": {},
   "outputs": [
    {
     "data": {
      "text/plain": [
       "array([[8.3037128e-04, 2.7128281e-03, 1.6425162e-03, ..., 5.5089640e-06,\n",
       "        3.1482447e-02, 5.4012500e-05],\n",
       "       [9.4770559e-04, 2.4976050e-02, 4.4493319e-08, ..., 2.0547265e-11,\n",
       "        9.7407228e-01, 3.8323356e-06],\n",
       "       [2.5301788e-02, 6.8902853e-03, 2.4635287e-04, ..., 1.0891466e-04,\n",
       "        9.6602070e-01, 3.4840996e-04],\n",
       "       ...,\n",
       "       [4.3248924e-04, 5.0390157e-05, 2.2594640e-01, ..., 1.5422140e-01,\n",
       "        3.3616234e-04, 7.3406161e-05],\n",
       "       [6.3367393e-03, 8.4791631e-01, 7.7668815e-03, ..., 4.8014405e-04,\n",
       "        5.3790818e-06, 3.8753205e-04],\n",
       "       [4.3930377e-06, 4.8272181e-05, 6.5976026e-05, ..., 9.9778110e-01,\n",
       "        2.4404079e-07, 1.0036008e-07]], dtype=float32)"
      ]
     },
     "execution_count": 34,
     "metadata": {},
     "output_type": "execute_result"
    }
   ],
   "source": [
    "y_pred"
   ]
  },
  {
   "cell_type": "code",
   "execution_count": 35,
   "id": "da4ff9a5-1b19-43b0-9fc2-1e4e642d73c7",
   "metadata": {},
   "outputs": [
    {
     "data": {
      "text/plain": [
       "array([[8.30371282e-04, 2.71282811e-03, 1.64251623e-03, 8.51744831e-01,\n",
       "        1.38320056e-05, 1.03790775e-01, 7.72294495e-03, 5.50896402e-06,\n",
       "        3.14824469e-02, 5.40125002e-05],\n",
       "       [9.47705586e-04, 2.49760505e-02, 4.44933193e-08, 1.28953090e-07,\n",
       "        5.17132864e-11, 1.39239009e-09, 4.79630513e-09, 2.05472653e-11,\n",
       "        9.74072278e-01, 3.83233555e-06],\n",
       "       [2.53017880e-02, 6.89028529e-03, 2.46352865e-04, 1.00699102e-03,\n",
       "        7.17814009e-06, 4.86261961e-05, 2.08531619e-05, 1.08914661e-04,\n",
       "        9.66020703e-01, 3.48409958e-04],\n",
       "       [9.34448421e-01, 5.99053549e-03, 6.27492927e-03, 1.01591358e-02,\n",
       "        2.73408019e-04, 8.65759430e-05, 1.16028276e-03, 1.43791285e-05,\n",
       "        4.15685698e-02, 2.38754365e-05],\n",
       "       [1.63944193e-07, 2.48037992e-07, 1.63436541e-03, 9.27827146e-04,\n",
       "        1.74174011e-02, 4.74277476e-05, 9.79971528e-01, 5.48590720e-07,\n",
       "        8.27799624e-08, 4.24552042e-07]], dtype=float32)"
      ]
     },
     "execution_count": 35,
     "metadata": {},
     "output_type": "execute_result"
    }
   ],
   "source": [
    "y_pred[:5]"
   ]
  },
  {
   "cell_type": "code",
   "execution_count": 38,
   "id": "525cb776-cb9e-4b7d-a4ca-79ee0791e767",
   "metadata": {},
   "outputs": [
    {
     "data": {
      "text/plain": [
       "[3, 8, 8, 0, 6, 6, 1, 2, 3, 1, 4, 9, 5, 7, 9, 8, 5, 7, 8, 6]"
      ]
     },
     "execution_count": 38,
     "metadata": {},
     "output_type": "execute_result"
    }
   ],
   "source": [
    "y_classes = [np.argmax(element) for element in y_pred]\n",
    "y_classes[:20]"
   ]
  },
  {
   "cell_type": "code",
   "execution_count": 39,
   "id": "90effabf-92f4-449d-8887-b877939127fe",
   "metadata": {},
   "outputs": [
    {
     "data": {
      "text/plain": [
       "array([3, 8, 8, 0, 6, 6, 1, 6, 3, 1, 0, 9, 5, 7, 9, 8, 5, 7, 8, 6],\n",
       "      dtype=uint8)"
      ]
     },
     "execution_count": 39,
     "metadata": {},
     "output_type": "execute_result"
    }
   ],
   "source": [
    "y_test[:20]"
   ]
  },
  {
   "cell_type": "code",
   "execution_count": 41,
   "id": "75fdb527-517f-488d-9ca0-b2781a02f0c1",
   "metadata": {},
   "outputs": [
    {
     "data": {
      "text/plain": [
       "array([[3, 3],\n",
       "       [4, 2]])"
      ]
     },
     "execution_count": 41,
     "metadata": {},
     "output_type": "execute_result"
    }
   ],
   "source": [
    "a=np.array([[1,1],[1,-1]])\n",
    "b=np.array([[2],[3]])\n",
    "c=a+b\n",
    "c"
   ]
  },
  {
   "cell_type": "code",
   "execution_count": null,
   "id": "27f63e35-e7ce-4bfa-8f93-901d41a02081",
   "metadata": {},
   "outputs": [],
   "source": []
  }
 ],
 "metadata": {
  "kernelspec": {
   "display_name": "Python 3 (ipykernel)",
   "language": "python",
   "name": "python3"
  },
  "language_info": {
   "codemirror_mode": {
    "name": "ipython",
    "version": 3
   },
   "file_extension": ".py",
   "mimetype": "text/x-python",
   "name": "python",
   "nbconvert_exporter": "python",
   "pygments_lexer": "ipython3",
   "version": "3.10.13"
  }
 },
 "nbformat": 4,
 "nbformat_minor": 5
}
